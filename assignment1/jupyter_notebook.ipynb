{
  "nbformat": 4,
  "nbformat_minor": 0,
  "metadata": {
    "kernelspec": {
      "display_name": "Python 3",
      "language": "python",
      "name": "python3"
    },
    "language_info": {
      "codemirror_mode": {
        "name": "ipython",
        "version": 3
      },
      "file_extension": ".py",
      "mimetype": "text/x-python",
      "name": "python",
      "nbconvert_exporter": "python",
      "pygments_lexer": "ipython3",
      "version": "3.6.4"
    },
    "colab": {
      "name": "jupyter_notebook.ipynb",
      "provenance": []
    }
  },
  "cells": [
    {
      "cell_type": "markdown",
      "metadata": {
        "id": "W1XUrzku9Xvt"
      },
      "source": [
        "## Introduction to Jupyter notebooks\n",
        "\n",
        "This is prety much an user friendly interactive Python interpretter. \n",
        "It is commonly used in education, but also in practice (academia as well as industry)."
      ]
    },
    {
      "cell_type": "markdown",
      "metadata": {
        "id": "thdxnFLA9XwS"
      },
      "source": [
        "Each code cell is a piece of runable Python code, that modifies a single global state.\n",
        "You can run a cell with `Shift+Enter`. Run the next cell to try it out."
      ]
    },
    {
      "cell_type": "code",
      "metadata": {
        "scrolled": true,
        "id": "nu7FCNyP9Xwf"
      },
      "source": [
        "print(\"Cell run seccesefully.\")"
      ],
      "execution_count": null,
      "outputs": []
    },
    {
      "cell_type": "markdown",
      "metadata": {
        "id": "LpXWYWk99Xw0"
      },
      "source": [
        "Note, that the return of the last statement will be printed as well."
      ]
    },
    {
      "cell_type": "code",
      "metadata": {
        "id": "fzhCIKwQ9Xw2"
      },
      "source": [
        "print(\"I am a normal print\")\n",
        "\"I am a string, but I will be printed because I am the last statement.\""
      ],
      "execution_count": null,
      "outputs": []
    },
    {
      "cell_type": "code",
      "metadata": {
        "id": "t61UdpqH9XxC"
      },
      "source": [
        "print(\"I am a normal print\")\n",
        "\"I am a string, but you won't see me, because there is an aditional formula at the end of this cell.\"\n",
        "3**2*7-63/3"
      ],
      "execution_count": null,
      "outputs": []
    },
    {
      "cell_type": "markdown",
      "metadata": {
        "id": "YYHtSCfb9XxL"
      },
      "source": [
        "### Graphs\n",
        "\n",
        "Finally, notebooks are so popular, because they can dislay nice images and nice graphs."
      ]
    },
    {
      "cell_type": "code",
      "metadata": {
        "id": "6pS8QK0n9XxN"
      },
      "source": [
        "from matplotlib import pyplot as plt\n",
        "x = [i/1000. for i in range(-1000,1000)]\n",
        "y1 = [(i**2)**0.3-(1.-i**2)**0.5 for i in x] \n",
        "y2 = [(i**2)**0.3+(1.-i**2)**0.5 for i in x] \n",
        "plt.scatter(x+x,y1+y2)"
      ],
      "execution_count": null,
      "outputs": []
    },
    {
      "cell_type": "markdown",
      "metadata": {
        "id": "_VW0fn2Z9XxU"
      },
      "source": [
        "### Usefull shortcuts & tricks\n",
        "There are two modes you can be in. Edit mode (you have a coursor and you can type into a cell) and command mode (you can use shortcuts).\n",
        "To get from edit mode to command mode, you can either press `ESC`, or press `Ctr+m`.\n",
        "Most usefull shortcuts are \n",
        "- `a`: inserts cell **a**bove current cell\n",
        "- `b`: insters cell **b**elow current cell\n",
        "- `d,d`: deletes current cell\n",
        "- `z`: undo cell deletion\n",
        "\n",
        "For more shortcuts check `Help`. (*Note that many of these sadly do not work in Google Colab but you can check the available shortcuts in `Tools > Keyboard shortcuts`.*)"
      ]
    }
  ]
}