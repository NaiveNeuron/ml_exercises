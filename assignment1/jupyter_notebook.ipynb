{
 "cells": [
  {
   "cell_type": "markdown",
   "metadata": {},
   "source": [
    "## Introduction to upyter notebooks\n",
    "\n",
    "This is prety much an user friendly interactive python interpretter. \n",
    "It is commonly used in education, but also in practice (academia as well as industry)."
   ]
  },
  {
   "cell_type": "markdown",
   "metadata": {},
   "source": [
    "Each code cell is a runable python code, that modifies a single global state.\n",
    "You can run a cell with `Shift+Enter`. Run the next cell to try it out."
   ]
  },
  {
   "cell_type": "code",
   "execution_count": null,
   "metadata": {
    "scrolled": true
   },
   "outputs": [],
   "source": [
    "print(\"Cell run seccesefully.\")"
   ]
  },
  {
   "cell_type": "markdown",
   "metadata": {},
   "source": [
    "Note, that the return of the last statement will be printed as well."
   ]
  },
  {
   "cell_type": "code",
   "execution_count": null,
   "metadata": {},
   "outputs": [],
   "source": [
    "print(\"I am a normal print\")\n",
    "\"I am a string, but I will be printed because I am the last statement.\""
   ]
  },
  {
   "cell_type": "code",
   "execution_count": null,
   "metadata": {},
   "outputs": [],
   "source": [
    "print(\"I am a normal print\")\n",
    "\"I am a string, but you wont see me, because there is an aditional formula at the end of this cell.\"\n",
    "3**2*7-63/3"
   ]
  },
  {
   "cell_type": "markdown",
   "metadata": {},
   "source": [
    "### Graphs\n",
    "\n",
    "Finally, notebooks are so popular, because they can dislay nice images and nice graphs."
   ]
  },
  {
   "cell_type": "code",
   "execution_count": null,
   "metadata": {},
   "outputs": [],
   "source": [
    "from matplotlib import pyplot as plt\n",
    "x = [i/1000. for i in range(-1000,1000)]\n",
    "y1 = [(i**2)**0.3-(1.-i**2)**0.5 for i in x] \n",
    "y2 = [(i**2)**0.3+(1.-i**2)**0.5 for i in x] \n",
    "plt.scatter(x+x,y1+y2)"
   ]
  },
  {
   "cell_type": "markdown",
   "metadata": {},
   "source": [
    "### Usefull shortcuts & tricks\n",
    "There are two modes you can be in. Edit mode (you have a coursor and you can type into a cell) and command mode (you can use shortcuts).\n",
    "To get from edit mode to command mode, you can either press `ESC`, or press `Ctr+m`.\n",
    "Most usefull shortcuts are \n",
    "- `a`: inserts cell **a**bove current cell\n",
    "- `b`: insters cell **b**elow current cell\n",
    "- `d,d`: delets current cell\n",
    "- `z`: undo cell deletion\n",
    "\n",
    "For more shortcuts check `Help`."
   ]
  }
 ],
 "metadata": {
  "kernelspec": {
   "display_name": "Python 3",
   "language": "python",
   "name": "python3"
  },
  "language_info": {
   "codemirror_mode": {
    "name": "ipython",
    "version": 3
   },
   "file_extension": ".py",
   "mimetype": "text/x-python",
   "name": "python",
   "nbconvert_exporter": "python",
   "pygments_lexer": "ipython3",
   "version": "3.6.4"
  }
 },
 "nbformat": 4,
 "nbformat_minor": 2
}
