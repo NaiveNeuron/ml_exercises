{
 "cells": [
  {
   "cell_type": "markdown",
   "metadata": {},
   "source": [
    " ## Introduction to numpy\n",
    " \n",
    "As the title says, welcome to this introductory notebook where we will try to learn something about `numpy`.\n",
    "\n",
    "Throughout this notebook you might be asked to provide some answers to our questions. These cells will be clearly marked as follows: \n",
    "\n",
    "<h5 style=\"color: #1B1BFF\">Your input required:</h5>\n",
    "\n",
    "------------------------------\n",
    "\n",
    "Writing clean vectorized `numpy` code is in many cases essential. Familiarity with this tool will help you write code that is both elegant and efficient and thus leads into faster and more effective experiemnts. Much more importantly, however, it will become easier for you to rewrite matematical equations because your code **will read like equations**. So lets start with some basics."
   ]
  },
  {
   "cell_type": "code",
   "execution_count": null,
   "metadata": {
    "collapsed": true,
    "scrolled": false
   },
   "outputs": [],
   "source": [
    "import numpy as np\n",
    "from utils import timeit, show_cut_image"
   ]
  },
  {
   "cell_type": "markdown",
   "metadata": {},
   "source": [
    "First, the imports. While it is not strictly required, most of the time you will find `numpy` to be imported as `np`. We suggest you do the same in your own projects/scripts.\n",
    "\n",
    "If you would want to create a vector `a` in `numpy` you can do so as follows:"
   ]
  },
  {
   "cell_type": "code",
   "execution_count": null,
   "metadata": {
    "collapsed": true,
    "scrolled": false
   },
   "outputs": [],
   "source": [
    "a = np.array([2, 4, 5, 6])\n",
    "print(a)"
   ]
  },
  {
   "cell_type": "markdown",
   "metadata": {},
   "source": [
    "To create a matrix you can use same syntax as you would for 2D arrays in Python"
   ]
  },
  {
   "cell_type": "code",
   "execution_count": null,
   "metadata": {
    "collapsed": true,
    "scrolled": false
   },
   "outputs": [],
   "source": [
    "A = np.array([[1, 2, 3, 4], \n",
    "              [5, 6, 7, 8]])\n",
    "print(A)"
   ]
  },
  {
   "cell_type": "markdown",
   "metadata": {},
   "source": [
    "Through this tutorial, we will try to keep the names of vectors (which will be lower-case) and matricies (which will\n",
    "be keep upper-case) constant. \n",
    "\n",
    "Since we now know how to create basic numpy objects, lets talk about them a bit.\n",
    "\n",
    "All objects like these (vector, matrix...) have a **shape** attribute which describes, as the name suggests, their shape. In other words, it descibes what do the dimensions of a particular object look like. This attribute can be accesed by typing `.shape` after the name of the object.\n",
    "\n",
    "Here are some examples:"
   ]
  },
  {
   "cell_type": "code",
   "execution_count": null,
   "metadata": {
    "collapsed": true,
    "scrolled": false
   },
   "outputs": [],
   "source": [
    "# create a vector\n",
    "a = np.array([1, 2, 3, 4])\n",
    "print(\"{}\\n\".format(a))\n",
    "\n",
    "# create a 2D matrix\n",
    "A = np.array([[1, 2, 3, 4],\n",
    "              [1, 2, 3, 4]])\n",
    "print(\"{}\\n\".format(A))\n",
    "\n",
    "# create 3D matrix (literally a 3D Python array wrapped in np.array)\n",
    "B = np.array([[[1, 2], [1, 2],\n",
    "               [3, 4], [3, 4]],\n",
    "              [[4, 5], [5, 6],\n",
    "               [4, 5], [5, 6]]])\n",
    "print(\"{}\\n\".format(B))\n",
    "\n",
    "# print shapes of all create objects\n",
    "print(\"Shape of vector a is {}\".format(a.shape))\n",
    "print(\"Shape of matrix A is {}\".format(A.shape))\n",
    "print(\"Shape of matrix B is {}\".format(B.shape))"
   ]
  },
  {
   "cell_type": "markdown",
   "metadata": {},
   "source": [
    "Throughout this course we will mostly work with high dimensional objects. \n",
    "\n",
    "In scientific computation practice, it is often needed to create a multidimensional object with certain values, such as an array with all elements equal to zero or a matrix initialized with values sampled from the normal distribution.\n",
    "\n",
    "Luckilly, `numpy` is awesome in this regard, as it provides readily-available solutions to pretty much all of the \"standard needs\". If you feel like \"someone must have done this before\", chances are there is a `numpy` function for it.\n",
    "\n",
    "Here are some examples of usage of functions for matrix and array creation that you may find useful:"
   ]
  },
  {
   "cell_type": "code",
   "execution_count": null,
   "metadata": {
    "collapsed": true,
    "scrolled": false
   },
   "outputs": [],
   "source": [
    "# creates a vector with elements [0, 1, 2, 3, 4]\n",
    "a = np.arange(5)\n",
    "print(\"a = {}\".format(a))\n",
    "\n",
    "# we can also set its starting point. So to create vector [10, 11, 12, 13, 14]\n",
    "# we would do\n",
    "v = np.arange(10, 15)\n",
    "print(\"v = {}\".format(v))\n",
    "\n",
    "# and also we can set step size. So to create a vector with elements spaced by 10\n",
    "# with start at 10 and end at 40, that is [10, 20, 30, 40] we would do\n",
    "u = np.arange(10, 50, 10)\n",
    "print(\"u = {}\".format(u))\n",
    "\n",
    "# Create a matrix filled with zeros of shape (10, 5)\n",
    "A = np.zeros((10, 5))\n",
    "print(\"A =\")\n",
    "print(A)\n",
    "\n",
    "# Create a matrix filled with ones of shape (5, 10)\n",
    "B = np.ones((5, 10))\n",
    "print(\"B =\")\n",
    "print(B)"
   ]
  },
  {
   "cell_type": "code",
   "execution_count": null,
   "metadata": {
    "collapsed": true,
    "scrolled": false
   },
   "outputs": [],
   "source": [
    "# Create a 2D matrix with random values of shape (5, 5)\n",
    "X = np.random.rand(5, 5)\n",
    "print(\"X with shape {}\".format(X.shape))\n",
    "print(X)\n",
    "\n",
    "# Create 3D matrix with values sampled from normal distribution of shape (2, 3, 2)\n",
    "Y = np.random.randn(2, 3, 2)\n",
    "print(\"\\nY with shape {}\".format(Y.shape))\n",
    "print(Y)"
   ]
  },
  {
   "cell_type": "markdown",
   "metadata": {},
   "source": [
    "Once we have these objects initalized, there are a ton of aritmetic operations we can do with them:"
   ]
  },
  {
   "cell_type": "code",
   "execution_count": null,
   "metadata": {
    "collapsed": true,
    "scrolled": false
   },
   "outputs": [],
   "source": [
    "a = np.array([1, 2, 3, 4, 5])\n",
    "print(\"a = {}\".format(a))\n",
    "\n",
    "# add a constant value to each element of a vector\n",
    "print(\"a + 5 = {}\".format(a + 5))\n",
    "\n",
    "# multiply each element of a vector by a constant value\n",
    "print(\"a * 5 = {}\".format(a * 5))\n",
    "\n",
    "# square the vector a\n",
    "print(\"a^2 = {}\".format(a ** 2))\n",
    "\n",
    "v = np.array([2, 2, 3, 2, 3])\n",
    "print(\"v = {}\".format(v))\n",
    "\n",
    "# multiply vector a by  vector v\n",
    "print(\"a * v = {}\".format(a * v))"
   ]
  },
  {
   "cell_type": "markdown",
   "metadata": {},
   "source": [
    "To multiply matrices together (to get their **element-wise** or [Hadamard](https://en.wikipedia.org/wiki/Hadamard_product_(matrices)) product, not the **dot product**), we do not need to do anything special:"
   ]
  },
  {
   "cell_type": "code",
   "execution_count": null,
   "metadata": {
    "collapsed": true,
    "scrolled": false
   },
   "outputs": [],
   "source": [
    "A = np.array([[1, 2, 3],\n",
    "              [1, 2, 3]])\n",
    "B = np.array([[2, 2, 2],\n",
    "              [3, 3, 3]])\n",
    "print(\"A =\\n{}\".format(A))\n",
    "print(\"B =\\n{}\".format(B))\n",
    "print(\"\")\n",
    "print(\"A * B =\\n{}\".format(A * B))"
   ]
  },
  {
   "cell_type": "markdown",
   "metadata": {},
   "source": [
    "\n",
    "We can also do other standard matrix operations with `numpy`, such as **dot product**."
   ]
  },
  {
   "cell_type": "code",
   "execution_count": null,
   "metadata": {
    "collapsed": true,
    "scrolled": false
   },
   "outputs": [],
   "source": [
    "A = np.random.rand(2, 3)\n",
    "print(\"A with shape {}\\n\".format(A.shape))\n",
    "print(A)\n",
    "B = np.random.randn(3, 5)\n",
    "print(\"B with shape {}\\n\".format(B.shape))\n",
    "print(B)\n",
    "print(\"\\nA \\dot B =\")\n",
    "# dot product of 'A' and 'B' to create a tensor of size (2, 5)\n",
    "print(A.dot(B))"
   ]
  },
  {
   "cell_type": "markdown",
   "metadata": {},
   "source": [
    "Oftentimes your vectors/matricies will have a shape that is just not what you would want. \n",
    "\n",
    "For instance, your data can be (and often times will be) stored in a common data storing formats like CSV. These formats are easily loadable with Python but not very usefull, since our models will almost certainly require vectors or matricies of certain shape. To reshape our vectors/matricies, numpy provides a `.reshape` function.\n",
    "\n",
    "For example, suppose we would find interesting data that consits of 100 gray scale images each having `36 x 36`px and loaded it into our Python environment. Note that since these are grayscale images, each pixel is represented as a single scalar value.\n",
    "\n",
    "Long story short, our matrix would have shape `(100, 36, 36)`. Now, we would like to use this to train some model. But our model takes a vector, not a matrix. We can easily preprocess this data accordingly with `numpy`."
   ]
  },
  {
   "cell_type": "code",
   "execution_count": null,
   "metadata": {
    "collapsed": true,
    "scrolled": false
   },
   "outputs": [],
   "source": [
    "# loaded matrix\n",
    "X = np.random.randn(100, 36, 36)\n",
    "\n",
    "# print shape of matrix X\n",
    "print(\"Shape of a matrix X is {}\\n\".format(X.shape))\n",
    "\n",
    "# reshape matrix X to contain 100 vectors\n",
    "Y = np.reshape(X, (100, 36 * 36))\n",
    "\n",
    "# print shape of new matrix Y\n",
    "print(\"Shape of new reshaped matrix Y is {}\".format(Y.shape))"
   ]
  },
  {
   "cell_type": "markdown",
   "metadata": {},
   "source": [
    "-------------------------------"
   ]
  },
  {
   "cell_type": "markdown",
   "metadata": {},
   "source": [
    "<h5 style=\"color: #1B1BFF\">Your input required:</h5>\n",
    "\n",
    "Reshape vector X, such that after the reshape operation it will contain 100 examples -- each of those with dimensions 240, 240, 3"
   ]
  },
  {
   "cell_type": "code",
   "execution_count": null,
   "metadata": {
    "collapsed": true,
    "scrolled": false
   },
   "outputs": [],
   "source": [
    "X = np.random.randn(17280000)\n",
    "\n",
    "# RESHAPE HERE\n",
    "\n",
    "print(\"New reshape vector X with shape: {}\".format(X.shape))"
   ]
  },
  {
   "cell_type": "markdown",
   "metadata": {},
   "source": [
    "------------------------------------------"
   ]
  },
  {
   "cell_type": "markdown",
   "metadata": {},
   "source": [
    "You may also often times need to find the `sum` or `mean` of a vector or a matrix. \n",
    "\n",
    "For all operations like this `numpy` already provides an implemented function (`mean`, `sum`, ...). These functions can also take an optional `axis` argument, which specifies in which axis should an operation be executed. \n",
    "\n",
    "For instance, if we would like to take a sum of the first axis of vector `x` we would do something like `np.sum(x, axis=0)` (dimension are indexed from zero). "
   ]
  },
  {
   "cell_type": "code",
   "execution_count": null,
   "metadata": {
    "scrolled": false
   },
   "outputs": [],
   "source": [
    "# create some matrix x\n",
    "X = np.array([[1, 3, 5, 7],\n",
    "              [6, 7, 3, 1],\n",
    "              [1, 4, 5, 1],\n",
    "              [7, 8, 4, 3],\n",
    "              [1, 2, 3, 4],\n",
    "              [9, 5, 4, 3],\n",
    "              [9, 8, 7, 6]])\n",
    "print(\"Shape of X: {}\\n\".format(X.shape))\n",
    "\n",
    "# take sum of first axis\n",
    "s = np.sum(X, axis=0)\n",
    "print(\"sum of first dimension of matrix x: \\ns={}\\n\".format(s))\n",
    "\n",
    "print(\"Shape of s: {}\".format(s.shape))"
   ]
  },
  {
   "cell_type": "markdown",
   "metadata": {},
   "source": [
    "-------------------------------"
   ]
  },
  {
   "cell_type": "markdown",
   "metadata": {},
   "source": [
    "<h5 style=\"color: #1B1BFF\">Your input required:</h5>\n",
    "\n",
    "Find the mean of the matrix `Z` in the second dimension. Furthermore, please print the dimensions of this resulting matrix as well."
   ]
  },
  {
   "cell_type": "code",
   "execution_count": null,
   "metadata": {
    "collapsed": true,
    "scrolled": false
   },
   "outputs": [],
   "source": [
    "Z = np.random.rand(10, 10, 15)\n",
    "\n",
    "## Mean of the Z matrix in the second dimension:\n",
    "\n",
    "## Dimensions of the result"
   ]
  },
  {
   "cell_type": "markdown",
   "metadata": {},
   "source": [
    "<h5 style=\"color: #1B1BFF\">Your input required:</h5>\n",
    "\n",
    "How would dimensions change if we would have taken the mean of the last (third) axis? Please also *briefly* explain what would the output of the `mean` operation represent if we changed the `axis` parameter."
   ]
  },
  {
   "cell_type": "markdown",
   "metadata": {},
   "source": [
    "*Write here **(double click on this text)** what would happend to the dimensions if we would have taken the mean of the third axis and your brief explanation.*"
   ]
  },
  {
   "cell_type": "markdown",
   "metadata": {},
   "source": [
    "---------------------------------------"
   ]
  },
  {
   "cell_type": "markdown",
   "metadata": {},
   "source": [
    "`numpy` also supports an operation called **broadcasting**. This can be better explained on some example.\n",
    "Let us assume we have a 2D matrix with 10 training examples, each of them having 3 features (matrix `X` of shape (10, 3)). Further suppose we also have a vector `w` of weights for each feature of size `(3, )`. \n",
    "\n",
    "Now, we would like to weigh each one of our traning examples with our wieght vector `w`. In plain Python we would probably have to write 2 `for` loops. With `numpy` it seems that since we can multiply vectors, we could probably make do with just one.\n",
    "\n",
    "Thankfully, all of this has been taken care of for us by **broadcasting**. In the end, all we need is a simple multiplication:"
   ]
  },
  {
   "cell_type": "code",
   "execution_count": null,
   "metadata": {
    "scrolled": false
   },
   "outputs": [],
   "source": [
    "# create random weight vector w \n",
    "w = np.random.randn(3)\n",
    "print(\"w with shape {}\".format(w.shape))\n",
    "print(w)\n",
    "\n",
    "# create random matrix X\n",
    "X = (np.random.rand(10, 3) * 10) + 3\n",
    "print(\"X with shape {}\".format(X.shape))\n",
    "print(X)\n",
    "print(\"\")\n",
    "\n",
    "# multiply each vector of shape (3,) in a second \n",
    "# dimension of matrix X by weight vector w\n",
    "print(\"Multiplication result:\")\n",
    "print(X * w)"
   ]
  },
  {
   "cell_type": "markdown",
   "metadata": {},
   "source": [
    "If we would want to set all elements in the second dimension of the first element of some matrix to zero, we can also do so with `numpy`s broadcasting by simply typing **:** instead of a number in a specific dimension.\n",
    "\n",
    "*Note*: the magical colon **:** here is actually the delimeter -- part of the syntax for \"slicing\" Python sequences (of any kind, really). For instance,\n",
    "\n",
    "- `[1:5]` is equivalent to saying \"from 1 to 5\"\n",
    "- `[:5]` is equivalent to saying \"from beginning to 5\"\n",
    "- `[1:]` is equivalent to saying \"from 1 to end\"\n",
    "\n",
    "Taking all of this into consideration, in the end we get `[:]` which can be equivalently described as \"from beginning to end\""
   ]
  },
  {
   "cell_type": "code",
   "execution_count": null,
   "metadata": {
    "collapsed": true,
    "scrolled": false
   },
   "outputs": [],
   "source": [
    "# create random matrix X\n",
    "X = np.random.randn(4, 3)\n",
    "print(\"X =\\n{}\".format(X))\n",
    "print(\"\")\n",
    "\n",
    "# set all elements of a first dimension to zero\n",
    "X[0, :] = 0\n",
    "\n",
    "print(\"X =\\n{}\".format(X))"
   ]
  },
  {
   "cell_type": "markdown",
   "metadata": {},
   "source": [
    "`numpy` also supports indexing by specifying a vector of indexes and then passing it to a \"sliceable\" object (i.e. matrix or vector). Or you can also specify a boolean matrix/vector (in other words a *mask*) and pass it to any object of this sort. Values in places with `True` value will be picked up while values on `False` places will be ignored."
   ]
  },
  {
   "cell_type": "code",
   "execution_count": null,
   "metadata": {
    "scrolled": false
   },
   "outputs": [],
   "source": [
    "# create matrix X filled with ones\n",
    "X = np.ones((4, 3))\n",
    "print(\"X =\\n{}\\n\".format(X))\n",
    "\n",
    "# create vector of indecies for matrix X\n",
    "idx = [0, 3]\n",
    "X[idx] = 0\n",
    "print(\"After running X[idx] = 0\")\n",
    "print(\"X =\\n{}\\n\".format(X))\n",
    "\n",
    "# create boolean matrix to select only certain values\n",
    "bool_idx = np.zeros((4, 3)).astype('bool')\n",
    "bool_idx[2, 2] = True\n",
    "bool_idx[3, 2] = True\n",
    "bool_idx[1, 0] = True\n",
    "print(\"bool_idx =\\n{}\\n\".format(bool_idx))\n",
    "\n",
    "# set each values specified in bool_idx to 300\n",
    "X[bool_idx] = 300\n",
    "print(\"After running X[bool_idx] = 300\")\n",
    "print(\"X =\\n{}\".format(X))"
   ]
  },
  {
   "cell_type": "markdown",
   "metadata": {},
   "source": [
    "These operations are usually heavily optimized in the background, so in most cases it is worth writing **vectorized** code with `numpy` rather than loops (even if it may take some time to figure out how to actually do that). "
   ]
  },
  {
   "cell_type": "markdown",
   "metadata": {},
   "source": [
    "We can also compare values in numpy arrays. Comparing an array or a matrix with some value will return an array or a matrix of the same shape but with boolean values. If the value in certain position meets the specified condition, the resulting matrix will have `True` value in that position. If it does not meet the condition, it will be `False`."
   ]
  },
  {
   "cell_type": "code",
   "execution_count": null,
   "metadata": {
    "scrolled": false
   },
   "outputs": [],
   "source": [
    "# create matrix X\n",
    "X = np.array([[1, 4, 3, 5], \n",
    "              [1, 2, 3, 7], \n",
    "              [5, 6, 2, 7]])\n",
    "print(\"X =\\n{}\\n\".format(X))\n",
    "\n",
    "# get all values that are more than 3\n",
    "print(\"X > 3 =\\n{}\".format(X > 3))"
   ]
  },
  {
   "cell_type": "markdown",
   "metadata": {},
   "source": [
    "As we can see, this nicely combines with what we learned before on `numpy`'s support for indexing by a boolean array/matrix. So if we want to set all the values that are bigger than `3` to say `300`, we can just do:"
   ]
  },
  {
   "cell_type": "code",
   "execution_count": null,
   "metadata": {
    "scrolled": false
   },
   "outputs": [],
   "source": [
    "print(\"X =\\n{}\\n\".format(X))\n",
    "\n",
    "# get all values that are more than 3\n",
    "bool_idx = X > 3\n",
    "print(\"X > 3 =\\n{}\".format(bool_idx))\n",
    "\n",
    "# set all those values to 300\n",
    "X[bool_idx] = 300\n",
    "print(\"X =\\n{}\\n\".format(X))"
   ]
  },
  {
   "cell_type": "markdown",
   "metadata": {},
   "source": [
    "-------------------------------"
   ]
  },
  {
   "cell_type": "markdown",
   "metadata": {},
   "source": [
    "<h5 style=\"color: #1B1BFF\">Your input required:</h5>\n",
    "\n",
    "Create random array of shape (10, 10, 3) that will have every second element (starting with index 1) in the second dimension set to zero."
   ]
  },
  {
   "cell_type": "code",
   "execution_count": null,
   "metadata": {
    "collapsed": true,
    "scrolled": false
   },
   "outputs": [],
   "source": []
  },
  {
   "cell_type": "markdown",
   "metadata": {},
   "source": [
    "<h5 style=\"color: #1B1BFF\">Your input required:</h5>\n",
    "\n",
    "Create a function that will set all the elements of a given array/matrix under a specified threshold to a specific value (we prepared the function header for you)."
   ]
  },
  {
   "cell_type": "code",
   "execution_count": null,
   "metadata": {
    "collapsed": true,
    "scrolled": false
   },
   "outputs": [],
   "source": [
    "def set_lower(X, thresh, value):\n",
    "    pass\n",
    "\n",
    "\n",
    "X = np.array([[1, 3, 5],\n",
    "              [3, 5, 1],\n",
    "              [1, 2, 5]])\n",
    "set_lower(X, 3, 5000)\n",
    "print(\"X =\\n{}\".format(X))\n",
    "\n",
    "Y = np.random.randn(100, 100, 100)\n",
    "set_lower(Y, 0.5, 1)"
   ]
  },
  {
   "cell_type": "markdown",
   "metadata": {},
   "source": [
    "------------------------------------------"
   ]
  },
  {
   "cell_type": "markdown",
   "metadata": {},
   "source": [
    "**And much more...** if you are iterested, all operations can be found in the [**offical documentation**](https://docs.scipy.org/doc/numpy/contents.html).\n",
    "\n",
    "Furthermore, if you would like to familiarize yourself with `numpy` even more, we suggest you take a look at the [**Numpy Excercises**](https://github.com/Kyubyong/numpy_exercises).\n",
    "\n",
    "\n",
    "Now for the fun part of this excercise. From this point on <span style='background:#b7b7b7;padding:5px;color: #1B1BFF'>***your input is required***</span> in every code cell :).\n"
   ]
  },
  {
   "cell_type": "markdown",
   "metadata": {},
   "source": [
    "Rewrite this matematical equation first with the use of loops and then as functional vectorized numpy code: \n",
    "\n",
    "$$y = \\frac{1}{n}\\sum_i^n{X_i}$$"
   ]
  },
  {
   "cell_type": "code",
   "execution_count": null,
   "metadata": {
    "collapsed": true,
    "scrolled": false
   },
   "outputs": [],
   "source": [
    "X = np.arange(50)\n",
    "\n",
    "def operate_loops_avg(X):\n",
    "    y = 0\n",
    "    return y\n",
    "\n",
    "operate_loops_avg(X)"
   ]
  },
  {
   "cell_type": "code",
   "execution_count": null,
   "metadata": {
    "collapsed": true,
    "scrolled": false
   },
   "outputs": [],
   "source": [
    "X = np.arange(50)\n",
    "\n",
    "def operate_vectorized_avg(X):\n",
    "    y = 0\n",
    "    return y\n",
    "\n",
    "operate_vectorized_avg(X)"
   ]
  },
  {
   "cell_type": "markdown",
   "metadata": {},
   "source": [
    "Rewrite this matematical equation with the use of `for` loops. Please use the prepared function header.\n",
    "\n",
    "$$y = \\sum_j \\sum_n \\big(\\sum_m X_{j,m} \\cdot W_{m,n}\\big) + b_{n}$$\n",
    "\n",
    "where $b$ is a vector, $X_j$ is an input vector for the example $j$ and $W$ is a weight matrix."
   ]
  },
  {
   "cell_type": "code",
   "execution_count": null,
   "metadata": {
    "collapsed": true,
    "scrolled": false
   },
   "outputs": [],
   "source": [
    "A = np.random.rand(10, 100)\n",
    "B = np.random.rand(100, 100)\n",
    "c = np.random.rand(100)\n",
    "\n",
    "@timeit\n",
    "def operate_loops(X, W, b):\n",
    "    y = 0\n",
    "    return y\n",
    "\n",
    "for x in range(10):\n",
    "    operate_loops(A, B, c)"
   ]
  },
  {
   "cell_type": "markdown",
   "metadata": {},
   "source": [
    "Now write the same equation but as numpy vectorized code. Difference between results of these two functions should be **zero** or **very close to zero**."
   ]
  },
  {
   "cell_type": "code",
   "execution_count": null,
   "metadata": {
    "collapsed": true,
    "scrolled": true
   },
   "outputs": [],
   "source": [
    "@timeit\n",
    "def operate_vectorized(X, W, b):\n",
    "    y = 0\n",
    "    return 0\n",
    "\n",
    "for x in range(10):\n",
    "    operate_vectorized(A, B, c)\n",
    "    \n",
    "# print(\"Difference: {}\".format(np.sum(np.abs(operate_vectorized(A, B, c) - operate_loops(A, B, c)))))"
   ]
  },
  {
   "cell_type": "markdown",
   "metadata": {},
   "source": [
    "As you can see, the `numpy` vectorized code runs much faster. This is due to the fact that vectorized operations, broadcasting and native `numpy` functions are heavily optimized to run as eficiently as possible."
   ]
  },
  {
   "cell_type": "markdown",
   "metadata": {},
   "source": [
    "------------------------------------------------------------------------------------------------------------------\n",
    "\n",
    "### Bonus question for 3 points:\n",
    "\n",
    "We loaded a picture for you in the cell below. With just reshape and function `moveaxis()` (check out the offical docs) split the image into equal chunks. In other words, simulate sliding window cutter that will cutout window of size `80 x 80` each **80 pixels**. Your final array should have shape `108 x 80 x 80 x 3`. This should not take more than few lines of code. You can also pass the final array to `show_cut_image(<your array here>)` function to see some of your cutouts."
   ]
  },
  {
   "cell_type": "code",
   "execution_count": null,
   "metadata": {
    "scrolled": false
   },
   "outputs": [],
   "source": [
    "from scipy import misc\n",
    "import matplotlib.pyplot as plt\n",
    "\n",
    "img = misc.face()\n",
    "img = misc.imresize(img, (720, 960))\n",
    "plt.imshow(img)\n",
    "plt.show()\n",
    "\n",
    "print(\"Image shape: {}\".format(img.shape))"
   ]
  },
  {
   "cell_type": "code",
   "execution_count": null,
   "metadata": {
    "collapsed": true,
    "scrolled": false
   },
   "outputs": [],
   "source": [
    "# RESHAPE AND ROLL HERE\n",
    "# show_cut_image(x)"
   ]
  },
  {
   "cell_type": "markdown",
   "metadata": {},
   "source": [
    "### Submission details\n",
    "\n",
    "\n",
    "The deadline for this assignment is the **19th of October, 23:55 CEST**.\n",
    "\n",
    "*If you need any help with this assignment, please feel free to ask the course TAs during their office hours, which can be found at the [course website](http://compbio.fmph.uniba.sk/vyuka/ml/).*\n",
    "\n",
    "\n",
    "## This is all for now. Thank you"
   ]
  }
 ],
 "metadata": {
  "kernelspec": {
   "display_name": "Python 2",
   "language": "python",
   "name": "python2"
  },
  "language_info": {
   "codemirror_mode": {
    "name": "ipython",
    "version": 3
   },
   "file_extension": ".py",
   "mimetype": "text/x-python",
   "name": "python",
   "nbconvert_exporter": "python",
   "pygments_lexer": "ipython3",
   "version": "3.7.2"
  }
 },
 "nbformat": 4,
 "nbformat_minor": 2
}
